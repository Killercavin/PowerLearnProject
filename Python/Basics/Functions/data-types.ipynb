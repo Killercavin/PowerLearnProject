{
 "cells": [
  {
   "cell_type": "code",
   "execution_count": 4,
   "metadata": {},
   "outputs": [
    {
     "name": "stdout",
     "output_type": "stream",
     "text": [
      "1.0\n",
      "<class 'float'>\n",
      "1\n",
      "<class 'int'>\n",
      "1\n",
      "1\n",
      "-3\n",
      "-2\n"
     ]
    }
   ],
   "source": [
    "# Define a float\n",
    "y = 1.\n",
    "print(y)\n",
    "print(type(y))\n",
    "\n",
    "# Convert float to integer with the int function\n",
    "z = int(y)\n",
    "print(z)\n",
    "print(type(z))\n",
    "\n",
    "print(int(1.2321))\n",
    "print(int(1.747))\n",
    "print(int(-3.94535))\n",
    "print(int(-2.19774))"
   ]
  },
  {
   "cell_type": "code",
   "execution_count": 5,
   "metadata": {},
   "outputs": [
    {
     "name": "stdout",
     "output_type": "stream",
     "text": [
      "3\n",
      "-3.1\n",
      "<class 'str'>\n",
      "0\n"
     ]
    }
   ],
   "source": [
    "print(3 * True)\n",
    "print(-3.1 * True)\n",
    "print(type(\"abc\" * False))\n",
    "print(len(\"abc\" * False))"
   ]
  }
 ],
 "metadata": {
  "kernelspec": {
   "display_name": "Python 3",
   "language": "python",
   "name": "python3"
  },
  "language_info": {
   "codemirror_mode": {
    "name": "ipython",
    "version": 3
   },
   "file_extension": ".py",
   "mimetype": "text/x-python",
   "name": "python",
   "nbconvert_exporter": "python",
   "pygments_lexer": "ipython3",
   "version": "3.12.5"
  }
 },
 "nbformat": 4,
 "nbformat_minor": 2
}
